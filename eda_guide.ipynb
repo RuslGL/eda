{
 "cells": [
  {
   "cell_type": "code",
   "execution_count": 1,
   "id": "42baafb8-9248-4471-b639-04b98a41513a",
   "metadata": {},
   "outputs": [],
   "source": [
    "import pandas as pd\n",
    "\n",
    "import numpy as np\n",
    "\n",
    "import warnings\n",
    "\n",
    "warnings.filterwarnings('ignore')"
   ]
  },
  {
   "cell_type": "markdown",
   "id": "d672756e-8c22-455f-a74c-7b282e09d8b1",
   "metadata": {},
   "source": [
    "## Для удобства сгенерим файл с синтетическми данными"
   ]
  },
  {
   "cell_type": "code",
   "execution_count": 3,
   "id": "ae46e7b9-1e1d-4c9a-8028-8cf9339e5c39",
   "metadata": {},
   "outputs": [],
   "source": [
    "n = 345\n",
    "\n",
    "n = 345\n",
    "\n",
    "random_days = np.random.randint(1, 32, n)\n",
    "dates = pd.to_datetime(\n",
    "    [f\"2025-01-{day:02d}\" for day in random_days]\n",
    ")\n",
    "\n",
    "# Генерация данных\n",
    "data = {\n",
    "    \"Sum\": np.round(np.random.uniform(10, 500, n), 2),\n",
    "    \"CustomerID\": np.random.randint(1, 120, n),\n",
    "    \"datePurcase\": dates,\n",
    "    \"Product\": np.random.choice(\n",
    "        [\"Laptop\", \"Phone\", \"Tablet\", \"Headphones\", \"Monitor\"], n\n",
    "    )  # случайные товары\n",
    "}\n",
    "\n",
    "\n",
    "df = pd.DataFrame(data)\n",
    "df = df.sort_values(by='datePurcase')\n",
    "\n",
    "# 5 случайных nan в Sum\n",
    "nan_idx = np.random.choice(df.index, 5, replace=False)\n",
    "df.loc[nan_idx, \"Sum\"] = np.nan\n",
    "\n",
    "# 7 случайных None в Product\n",
    "none_idx = np.random.choice(df.index, 7, replace=False)\n",
    "df.loc[none_idx, \"Product\"] = None\n",
    "\n",
    "qty_raw = np.random.lognormal(mean=1, sigma=0.5, size=len(df))\n",
    "# значения от 1 до 6\n",
    "qty = np.clip(np.round(qty_raw).astype(int), 1, 6)\n",
    "df[\"qty\"] = qty\n",
    "\n",
    "\n",
    "\n",
    "df.to_csv('sample_eda_data.csv', sep='$', index=False)\n"
   ]
  },
  {
   "cell_type": "markdown",
   "id": "c64c5c55-8396-4934-b9ab-7e2e8a140bcb",
   "metadata": {},
   "source": [
    "## Считываем файл и знакомимся с ним визуально"
   ]
  },
  {
   "cell_type": "code",
   "execution_count": 4,
   "id": "617a53c4-70b9-4b95-98c1-ee1df894d0cf",
   "metadata": {
    "scrolled": true
   },
   "outputs": [
    {
     "data": {
      "text/html": [
       "<div>\n",
       "<style scoped>\n",
       "    .dataframe tbody tr th:only-of-type {\n",
       "        vertical-align: middle;\n",
       "    }\n",
       "\n",
       "    .dataframe tbody tr th {\n",
       "        vertical-align: top;\n",
       "    }\n",
       "\n",
       "    .dataframe thead th {\n",
       "        text-align: right;\n",
       "    }\n",
       "</style>\n",
       "<table border=\"1\" class=\"dataframe\">\n",
       "  <thead>\n",
       "    <tr style=\"text-align: right;\">\n",
       "      <th></th>\n",
       "      <th>Sum</th>\n",
       "      <th>CustomerID</th>\n",
       "      <th>datePurcase</th>\n",
       "      <th>Product</th>\n",
       "      <th>qty</th>\n",
       "    </tr>\n",
       "  </thead>\n",
       "  <tbody>\n",
       "    <tr>\n",
       "      <th>0</th>\n",
       "      <td>91.19</td>\n",
       "      <td>85</td>\n",
       "      <td>2025-01-01</td>\n",
       "      <td>Tablet</td>\n",
       "      <td>4</td>\n",
       "    </tr>\n",
       "    <tr>\n",
       "      <th>1</th>\n",
       "      <td>277.42</td>\n",
       "      <td>31</td>\n",
       "      <td>2025-01-01</td>\n",
       "      <td>Headphones</td>\n",
       "      <td>4</td>\n",
       "    </tr>\n",
       "    <tr>\n",
       "      <th>2</th>\n",
       "      <td>280.29</td>\n",
       "      <td>69</td>\n",
       "      <td>2025-01-01</td>\n",
       "      <td>Headphones</td>\n",
       "      <td>1</td>\n",
       "    </tr>\n",
       "    <tr>\n",
       "      <th>3</th>\n",
       "      <td>26.49</td>\n",
       "      <td>101</td>\n",
       "      <td>2025-01-01</td>\n",
       "      <td>Tablet</td>\n",
       "      <td>5</td>\n",
       "    </tr>\n",
       "    <tr>\n",
       "      <th>4</th>\n",
       "      <td>248.74</td>\n",
       "      <td>118</td>\n",
       "      <td>2025-01-01</td>\n",
       "      <td>Monitor</td>\n",
       "      <td>2</td>\n",
       "    </tr>\n",
       "  </tbody>\n",
       "</table>\n",
       "</div>"
      ],
      "text/plain": [
       "      Sum  CustomerID datePurcase     Product  qty\n",
       "0   91.19          85  2025-01-01      Tablet    4\n",
       "1  277.42          31  2025-01-01  Headphones    4\n",
       "2  280.29          69  2025-01-01  Headphones    1\n",
       "3   26.49         101  2025-01-01      Tablet    5\n",
       "4  248.74         118  2025-01-01     Monitor    2"
      ]
     },
     "execution_count": 4,
     "metadata": {},
     "output_type": "execute_result"
    }
   ],
   "source": [
    "df = pd.read_csv('sample_eda_data.csv', sep='$')\n",
    "df.head()"
   ]
  },
  {
   "cell_type": "markdown",
   "id": "7dd44c7b-9e4c-4f4e-b5f0-f415420659a6",
   "metadata": {},
   "source": [
    "## Сразу переименовыем столбцы по стандарту"
   ]
  },
  {
   "cell_type": "code",
   "execution_count": 17,
   "id": "6e6c1b14-dd1d-479c-80d1-2dabcac66d7a",
   "metadata": {},
   "outputs": [
    {
     "data": {
      "text/plain": [
       "Index(['sum', 'customer_id', 'date_purchase', 'product', 'qty'], dtype='object')"
      ]
     },
     "execution_count": 17,
     "metadata": {},
     "output_type": "execute_result"
    }
   ],
   "source": [
    "df.columns = ['sum', 'customer_id', 'date_purchase', 'product', 'qty']\n",
    "df.columns"
   ]
  },
  {
   "cell_type": "markdown",
   "id": "7e1ccaf0-2cf7-4d33-931d-7f241bd8a897",
   "metadata": {},
   "source": [
    "## Cмотрим общую информацию о датафрейме"
   ]
  },
  {
   "cell_type": "code",
   "execution_count": 18,
   "id": "ec3f4260-ec14-45d6-93a2-34346bc7df99",
   "metadata": {
    "scrolled": true
   },
   "outputs": [
    {
     "name": "stdout",
     "output_type": "stream",
     "text": [
      "<class 'pandas.core.frame.DataFrame'>\n",
      "RangeIndex: 345 entries, 0 to 344\n",
      "Data columns (total 5 columns):\n",
      " #   Column         Non-Null Count  Dtype  \n",
      "---  ------         --------------  -----  \n",
      " 0   sum            340 non-null    float64\n",
      " 1   customer_id    345 non-null    int64  \n",
      " 2   date_purchase  345 non-null    object \n",
      " 3   product        345 non-null    object \n",
      " 4   qty            345 non-null    int64  \n",
      "dtypes: float64(1), int64(2), object(2)\n",
      "memory usage: 13.6+ KB\n"
     ]
    }
   ],
   "source": [
    "df.info()"
   ]
  },
  {
   "cell_type": "markdown",
   "id": "f7ced749-12ff-407d-ba10-5b80bb4647ae",
   "metadata": {},
   "source": [
    "## Если видим не соответствие значений типу данных осуществляем приведение"
   ]
  },
  {
   "cell_type": "code",
   "execution_count": 19,
   "id": "28c0f6f5-1b9b-4d37-99a9-0b8de6dba4da",
   "metadata": {},
   "outputs": [
    {
     "name": "stdout",
     "output_type": "stream",
     "text": [
      "<class 'pandas.core.frame.DataFrame'>\n",
      "RangeIndex: 345 entries, 0 to 344\n",
      "Data columns (total 5 columns):\n",
      " #   Column         Non-Null Count  Dtype         \n",
      "---  ------         --------------  -----         \n",
      " 0   sum            340 non-null    float64       \n",
      " 1   customer_id    345 non-null    int64         \n",
      " 2   date_purchase  345 non-null    datetime64[ns]\n",
      " 3   product        345 non-null    object        \n",
      " 4   qty            345 non-null    int64         \n",
      "dtypes: datetime64[ns](1), float64(1), int64(2), object(1)\n",
      "memory usage: 13.6+ KB\n"
     ]
    }
   ],
   "source": [
    "df['qty'] = pd.to_numeric(df['qty'])\n",
    "\n",
    "df['date_purchase'] = pd.to_datetime(df['date_purchase'])\n",
    "df.info()"
   ]
  },
  {
   "cell_type": "code",
   "execution_count": 21,
   "id": "631050f9-689b-4828-b76e-f2f329f26bc3",
   "metadata": {},
   "outputs": [
    {
     "data": {
      "text/plain": [
       "Timestamp('2025-01-31 00:00:00')"
      ]
     },
     "metadata": {},
     "output_type": "display_data"
    },
    {
     "data": {
      "text/plain": [
       "Timestamp('2025-01-01 00:00:00')"
      ]
     },
     "metadata": {},
     "output_type": "display_data"
    }
   ],
   "source": [
    "display(df['date_purchase'].max(), df['date_purchase'].min())"
   ]
  },
  {
   "cell_type": "markdown",
   "id": "a2796e4e-4ea4-4781-b21d-6b4ef21bef5a",
   "metadata": {},
   "source": [
    "## Смотрим распредление по числовым данным"
   ]
  },
  {
   "cell_type": "code",
   "execution_count": 23,
   "id": "7cbdcae9-0111-48b7-8b40-a23152d5e98b",
   "metadata": {
    "scrolled": true
   },
   "outputs": [
    {
     "data": {
      "text/html": [
       "<div>\n",
       "<style scoped>\n",
       "    .dataframe tbody tr th:only-of-type {\n",
       "        vertical-align: middle;\n",
       "    }\n",
       "\n",
       "    .dataframe tbody tr th {\n",
       "        vertical-align: top;\n",
       "    }\n",
       "\n",
       "    .dataframe thead th {\n",
       "        text-align: right;\n",
       "    }\n",
       "</style>\n",
       "<table border=\"1\" class=\"dataframe\">\n",
       "  <thead>\n",
       "    <tr style=\"text-align: right;\">\n",
       "      <th></th>\n",
       "      <th>sum</th>\n",
       "      <th>qty</th>\n",
       "    </tr>\n",
       "  </thead>\n",
       "  <tbody>\n",
       "    <tr>\n",
       "      <th>count</th>\n",
       "      <td>340.000000</td>\n",
       "      <td>345.000000</td>\n",
       "    </tr>\n",
       "    <tr>\n",
       "      <th>mean</th>\n",
       "      <td>240.503853</td>\n",
       "      <td>3.043478</td>\n",
       "    </tr>\n",
       "    <tr>\n",
       "      <th>std</th>\n",
       "      <td>139.647344</td>\n",
       "      <td>1.393869</td>\n",
       "    </tr>\n",
       "    <tr>\n",
       "      <th>min</th>\n",
       "      <td>14.680000</td>\n",
       "      <td>1.000000</td>\n",
       "    </tr>\n",
       "    <tr>\n",
       "      <th>25%</th>\n",
       "      <td>125.195000</td>\n",
       "      <td>2.000000</td>\n",
       "    </tr>\n",
       "    <tr>\n",
       "      <th>50%</th>\n",
       "      <td>240.955000</td>\n",
       "      <td>3.000000</td>\n",
       "    </tr>\n",
       "    <tr>\n",
       "      <th>75%</th>\n",
       "      <td>348.267500</td>\n",
       "      <td>4.000000</td>\n",
       "    </tr>\n",
       "    <tr>\n",
       "      <th>max</th>\n",
       "      <td>499.860000</td>\n",
       "      <td>6.000000</td>\n",
       "    </tr>\n",
       "  </tbody>\n",
       "</table>\n",
       "</div>"
      ],
      "text/plain": [
       "              sum         qty\n",
       "count  340.000000  345.000000\n",
       "mean   240.503853    3.043478\n",
       "std    139.647344    1.393869\n",
       "min     14.680000    1.000000\n",
       "25%    125.195000    2.000000\n",
       "50%    240.955000    3.000000\n",
       "75%    348.267500    4.000000\n",
       "max    499.860000    6.000000"
      ]
     },
     "execution_count": 23,
     "metadata": {},
     "output_type": "execute_result"
    }
   ],
   "source": [
    "df[['sum', 'qty']].describe()"
   ]
  },
  {
   "cell_type": "markdown",
   "id": "9b7a2150-ccfb-4a40-967a-11410e21269a",
   "metadata": {},
   "source": [
    "## Смотрим сумму по группировке"
   ]
  },
  {
   "cell_type": "code",
   "execution_count": 10,
   "id": "41bcb9ea-3404-4db7-b54a-fe6961fb5842",
   "metadata": {},
   "outputs": [
    {
     "data": {
      "text/plain": [
       "product\n",
       "Headphones    18938.16\n",
       "Laptop        16545.58\n",
       "Monitor       12614.15\n",
       "Phone         17096.01\n",
       "Tablet        14424.62\n",
       "Name: sum, dtype: float64"
      ]
     },
     "execution_count": 10,
     "metadata": {},
     "output_type": "execute_result"
    }
   ],
   "source": [
    "df.groupby('product')['sum'].sum()"
   ]
  },
  {
   "cell_type": "code",
   "execution_count": 11,
   "id": "35a4e8de-35eb-4398-9846-3bd09f21a0b6",
   "metadata": {},
   "outputs": [
    {
     "data": {
      "text/plain": [
       "1990.15"
      ]
     },
     "metadata": {},
     "output_type": "display_data"
    },
    {
     "data": {
      "text/plain": [
       "14.73"
      ]
     },
     "execution_count": 11,
     "metadata": {},
     "output_type": "execute_result"
    }
   ],
   "source": [
    "display(df.groupby('customer_id')['sum'].sum().max())\n",
    "df.groupby('customer_id')['sum'].sum().min()"
   ]
  },
  {
   "cell_type": "markdown",
   "id": "d3e5c923-fff4-4bbe-93b6-6a347bba816f",
   "metadata": {},
   "source": [
    "## Считаем отсутсвующие значения (None, NaN)"
   ]
  },
  {
   "cell_type": "code",
   "execution_count": 12,
   "id": "035cc0f2-73a0-425e-865f-6145556aeb43",
   "metadata": {},
   "outputs": [
    {
     "data": {
      "text/plain": [
       "7"
      ]
     },
     "metadata": {},
     "output_type": "display_data"
    },
    {
     "data": {
      "text/plain": [
       "5"
      ]
     },
     "metadata": {},
     "output_type": "display_data"
    },
    {
     "data": {
      "text/plain": [
       "sum             5\n",
       "customer_id     0\n",
       "date_purcase    0\n",
       "product         7\n",
       "qty             0\n",
       "dtype: int64"
      ]
     },
     "execution_count": 12,
     "metadata": {},
     "output_type": "execute_result"
    }
   ],
   "source": [
    "display(df['product'].isna().sum())\n",
    "display(df['sum'].isna().sum())\n",
    "df.isna().sum()"
   ]
  },
  {
   "cell_type": "markdown",
   "id": "784ce1f3-8088-4232-84df-ce15fda1854f",
   "metadata": {},
   "source": [
    "## Заменяем пропущенные значения, где имеет смысл и не искажает данные"
   ]
  },
  {
   "cell_type": "code",
   "execution_count": 13,
   "id": "3861e7ae-0bf8-4997-b4ab-b46606a6d521",
   "metadata": {},
   "outputs": [],
   "source": [
    "# df = df.fillna('-1')  - заменит во всем df\n",
    "df['product'].fillna('Unknown', inplace=True)"
   ]
  },
  {
   "cell_type": "markdown",
   "id": "75d78735-2841-4d9f-a5ee-bddb9ef3f49e",
   "metadata": {},
   "source": [
    "## Смотрим уникальные значения по столбцу product "
   ]
  },
  {
   "cell_type": "code",
   "execution_count": 14,
   "id": "7beb8e97-05fd-4f8b-be94-5c749d0e631d",
   "metadata": {},
   "outputs": [
    {
     "data": {
      "text/plain": [
       "array(['Tablet', 'Headphones', 'Monitor', 'Laptop', 'Phone', 'Unknown'],\n",
       "      dtype=object)"
      ]
     },
     "execution_count": 14,
     "metadata": {},
     "output_type": "execute_result"
    }
   ],
   "source": [
    "df['product'].unique()"
   ]
  },
  {
   "cell_type": "markdown",
   "id": "7d520e2c-08c4-44eb-ac72-957ad09d25a6",
   "metadata": {},
   "source": []
  },
  {
   "cell_type": "markdown",
   "id": "13b6683d-6630-40bb-a995-736dd0e22cf8",
   "metadata": {},
   "source": []
  },
  {
   "cell_type": "code",
   "execution_count": null,
   "id": "9d10117b-b24d-4adc-a1fa-f2443ae5ee52",
   "metadata": {},
   "outputs": [],
   "source": []
  },
  {
   "cell_type": "code",
   "execution_count": null,
   "id": "5b0ee540-3c62-4567-b912-8ed43aba952d",
   "metadata": {},
   "outputs": [],
   "source": []
  },
  {
   "cell_type": "code",
   "execution_count": null,
   "id": "94a6e3bf-69bd-4e02-a1ec-ec473eb8200a",
   "metadata": {},
   "outputs": [],
   "source": []
  }
 ],
 "metadata": {
  "kernelspec": {
   "display_name": "Python 3.11 (py_311)",
   "language": "python",
   "name": "py_311"
  },
  "language_info": {
   "codemirror_mode": {
    "name": "ipython",
    "version": 3
   },
   "file_extension": ".py",
   "mimetype": "text/x-python",
   "name": "python",
   "nbconvert_exporter": "python",
   "pygments_lexer": "ipython3",
   "version": "3.11.0"
  }
 },
 "nbformat": 4,
 "nbformat_minor": 5
}
