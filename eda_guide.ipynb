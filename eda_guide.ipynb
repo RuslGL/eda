{
 "cells": [
  {
   "cell_type": "markdown",
   "id": "cfa24946-d052-44a1-83de-a0c254ab6b6a",
   "metadata": {},
   "source": [
    "# CONTENT\n",
    "\n",
    "[0](#0) Генерация синтетических данных <br>\n",
    "[1](#1) Чтение и визуальное ознакомление <br>\n",
    "[2](#2) Обогащение данных <br>\n",
    "[3](#3) Cмотрим общую информацию <br>\n",
    "[4](#4) Считаем отсутствующие значения (None, NaN) и обрабатываем (если применимо) <br>\n",
    "[5](#5) Приведение данных <br>\n",
    "[6](#6) Знакомимся с категориальными данными <br>\n",
    "[7](#7) Смотрим распредление по числовым данным <br>\n",
    "[8](#8) Строим графики, группируем данные логически <br>\n",
    "[9](#9) Делаем вывод <br>"
   ]
  },
  {
   "cell_type": "code",
   "execution_count": 1,
   "id": "42baafb8-9248-4471-b639-04b98a41513a",
   "metadata": {},
   "outputs": [],
   "source": [
    "import pandas as pd\n",
    "\n",
    "import numpy as np\n",
    "\n",
    "import warnings\n",
    "\n",
    "import matplotlib.pyplot as plt\n",
    "\n",
    "warnings.filterwarnings('ignore')"
   ]
  },
  {
   "cell_type": "markdown",
   "id": "e4986353-1e57-4205-8c2d-18df72474ff9",
   "metadata": {},
   "source": [
    "# 0 "
   ]
  },
  {
   "cell_type": "markdown",
   "id": "d672756e-8c22-455f-a74c-7b282e09d8b1",
   "metadata": {},
   "source": [
    "# Для удобства сгенерим файл с синтетическми данными\n",
    "\n",
    "[CONTENT](#CONTENT)<br>"
   ]
  },
  {
   "cell_type": "code",
   "execution_count": 2,
   "id": "ae46e7b9-1e1d-4c9a-8028-8cf9339e5c39",
   "metadata": {},
   "outputs": [],
   "source": [
    "n = 345\n",
    "\n",
    "random_days = np.random.randint(1, 32, n)\n",
    "dates = pd.to_datetime(\n",
    "    [f\"2025-01-{day:02d}\" for day in random_days]\n",
    ")\n",
    "\n",
    "# Генерация данных\n",
    "data = {\n",
    "    \"Price\": np.round(np.random.uniform(10, 500, n), 2),\n",
    "    \"CustomerID\": np.random.randint(1, 120, n),\n",
    "    \"datePurcase\": dates,\n",
    "    \"Product\": np.random.choice(\n",
    "        [\"Laptop\", \"Phone\", \"Tablet\", \"Headphones\", \"Monitor\"], n\n",
    "    )  # случайные товары\n",
    "}\n",
    "\n",
    "\n",
    "df = pd.DataFrame(data)\n",
    "df = df.sort_values(by='datePurcase')\n",
    "\n",
    "\n",
    "random_hours = np.random.randint(0, 24, len(df))\n",
    "random_minutes = np.random.randint(0, 60, len(df))\n",
    "df['datePurcase'] = df['datePurcase'] + pd.to_timedelta(random_hours, unit='h') + pd.to_timedelta(random_minutes, unit='m')\n",
    "\n",
    "# 5 случайных nan в Sum\n",
    "nan_idx = np.random.choice(df.index, 5, replace=False)\n",
    "df.loc[nan_idx, \"Price\"] = np.nan\n",
    "\n",
    "# 7 случайных None в Product\n",
    "none_idx = np.random.choice(df.index, 7, replace=False)\n",
    "df.loc[none_idx, \"Product\"] = None\n",
    "\n",
    "qty_raw = np.random.lognormal(mean=1, sigma=0.5, size=len(df))\n",
    "# значения от 1 до 6\n",
    "qty = np.clip(np.round(qty_raw).astype(int), 1, 6)\n",
    "df[\"qty\"] = qty\n",
    "\n",
    "\n",
    "\n",
    "df.to_csv('sample_eda_data.csv', sep='$', index=False)"
   ]
  },
  {
   "cell_type": "markdown",
   "id": "fe1850cc-bd2d-420d-8936-74c9847ed268",
   "metadata": {},
   "source": [
    "# 1"
   ]
  },
  {
   "cell_type": "markdown",
   "id": "c64c5c55-8396-4934-b9ab-7e2e8a140bcb",
   "metadata": {},
   "source": [
    "# Считываем файл и знакомимся с ним визуально\n",
    "\n",
    "[CONTENT](#CONTENT)<br>"
   ]
  },
  {
   "cell_type": "code",
   "execution_count": 3,
   "id": "617a53c4-70b9-4b95-98c1-ee1df894d0cf",
   "metadata": {},
   "outputs": [
    {
     "data": {
      "text/html": [
       "<div>\n",
       "<style scoped>\n",
       "    .dataframe tbody tr th:only-of-type {\n",
       "        vertical-align: middle;\n",
       "    }\n",
       "\n",
       "    .dataframe tbody tr th {\n",
       "        vertical-align: top;\n",
       "    }\n",
       "\n",
       "    .dataframe thead th {\n",
       "        text-align: right;\n",
       "    }\n",
       "</style>\n",
       "<table border=\"1\" class=\"dataframe\">\n",
       "  <thead>\n",
       "    <tr style=\"text-align: right;\">\n",
       "      <th></th>\n",
       "      <th>Price</th>\n",
       "      <th>CustomerID</th>\n",
       "      <th>datePurcase</th>\n",
       "      <th>Product</th>\n",
       "      <th>qty</th>\n",
       "    </tr>\n",
       "  </thead>\n",
       "  <tbody>\n",
       "    <tr>\n",
       "      <th>0</th>\n",
       "      <td>315.93</td>\n",
       "      <td>90</td>\n",
       "      <td>2025-01-01 19:53:00</td>\n",
       "      <td>Tablet</td>\n",
       "      <td>2</td>\n",
       "    </tr>\n",
       "    <tr>\n",
       "      <th>1</th>\n",
       "      <td>361.05</td>\n",
       "      <td>82</td>\n",
       "      <td>2025-01-01 19:22:00</td>\n",
       "      <td>Phone</td>\n",
       "      <td>3</td>\n",
       "    </tr>\n",
       "    <tr>\n",
       "      <th>2</th>\n",
       "      <td>410.59</td>\n",
       "      <td>84</td>\n",
       "      <td>2025-01-01 22:49:00</td>\n",
       "      <td>Tablet</td>\n",
       "      <td>2</td>\n",
       "    </tr>\n",
       "    <tr>\n",
       "      <th>3</th>\n",
       "      <td>131.28</td>\n",
       "      <td>8</td>\n",
       "      <td>2025-01-01 06:40:00</td>\n",
       "      <td>Tablet</td>\n",
       "      <td>2</td>\n",
       "    </tr>\n",
       "    <tr>\n",
       "      <th>4</th>\n",
       "      <td>27.39</td>\n",
       "      <td>44</td>\n",
       "      <td>2025-01-01 02:46:00</td>\n",
       "      <td>Tablet</td>\n",
       "      <td>5</td>\n",
       "    </tr>\n",
       "  </tbody>\n",
       "</table>\n",
       "</div>"
      ],
      "text/plain": [
       "    Price  CustomerID          datePurcase Product  qty\n",
       "0  315.93          90  2025-01-01 19:53:00  Tablet    2\n",
       "1  361.05          82  2025-01-01 19:22:00   Phone    3\n",
       "2  410.59          84  2025-01-01 22:49:00  Tablet    2\n",
       "3  131.28           8  2025-01-01 06:40:00  Tablet    2\n",
       "4   27.39          44  2025-01-01 02:46:00  Tablet    5"
      ]
     },
     "execution_count": 3,
     "metadata": {},
     "output_type": "execute_result"
    }
   ],
   "source": [
    "df = pd.read_csv('sample_eda_data.csv', sep='$')\n",
    "df.head()"
   ]
  },
  {
   "cell_type": "markdown",
   "id": "0cd44138-2f08-4264-ace2-5a599835c4e6",
   "metadata": {},
   "source": [
    "# 2"
   ]
  },
  {
   "cell_type": "markdown",
   "id": "5c1d48b2-302a-4a70-aa25-07b74c3a21c5",
   "metadata": {},
   "source": [
    "# Обогащаем данные\n",
    "\n",
    "## Понимаем, что для понимания сути транзакции будет полезна общая стоимость по заказу\n",
    "Создадим необходимый столбец\n",
    "\n",
    "[CONTENT](#CONTENT)<br>"
   ]
  },
  {
   "cell_type": "code",
   "execution_count": 4,
   "id": "e174248d-99dc-4590-849e-33e4083a664a",
   "metadata": {},
   "outputs": [
    {
     "data": {
      "text/html": [
       "<div>\n",
       "<style scoped>\n",
       "    .dataframe tbody tr th:only-of-type {\n",
       "        vertical-align: middle;\n",
       "    }\n",
       "\n",
       "    .dataframe tbody tr th {\n",
       "        vertical-align: top;\n",
       "    }\n",
       "\n",
       "    .dataframe thead th {\n",
       "        text-align: right;\n",
       "    }\n",
       "</style>\n",
       "<table border=\"1\" class=\"dataframe\">\n",
       "  <thead>\n",
       "    <tr style=\"text-align: right;\">\n",
       "      <th></th>\n",
       "      <th>Price</th>\n",
       "      <th>CustomerID</th>\n",
       "      <th>datePurcase</th>\n",
       "      <th>Product</th>\n",
       "      <th>qty</th>\n",
       "      <th>sum</th>\n",
       "    </tr>\n",
       "  </thead>\n",
       "  <tbody>\n",
       "    <tr>\n",
       "      <th>0</th>\n",
       "      <td>315.93</td>\n",
       "      <td>90</td>\n",
       "      <td>2025-01-01 19:53:00</td>\n",
       "      <td>Tablet</td>\n",
       "      <td>2</td>\n",
       "      <td>631.86</td>\n",
       "    </tr>\n",
       "    <tr>\n",
       "      <th>1</th>\n",
       "      <td>361.05</td>\n",
       "      <td>82</td>\n",
       "      <td>2025-01-01 19:22:00</td>\n",
       "      <td>Phone</td>\n",
       "      <td>3</td>\n",
       "      <td>1083.15</td>\n",
       "    </tr>\n",
       "  </tbody>\n",
       "</table>\n",
       "</div>"
      ],
      "text/plain": [
       "    Price  CustomerID          datePurcase Product  qty      sum\n",
       "0  315.93          90  2025-01-01 19:53:00  Tablet    2   631.86\n",
       "1  361.05          82  2025-01-01 19:22:00   Phone    3  1083.15"
      ]
     },
     "execution_count": 4,
     "metadata": {},
     "output_type": "execute_result"
    }
   ],
   "source": [
    "df['sum'] = df['Price'] * df['qty']\n",
    "\n",
    "df.head(2)"
   ]
  },
  {
   "cell_type": "code",
   "execution_count": 5,
   "id": "fe173702-4aee-4d37-89cd-654f94ad5350",
   "metadata": {},
   "outputs": [],
   "source": [
    "## Сразу переименовыем столбцы по стандарту"
   ]
  },
  {
   "cell_type": "code",
   "execution_count": 6,
   "id": "6e6c1b14-dd1d-479c-80d1-2dabcac66d7a",
   "metadata": {},
   "outputs": [
    {
     "data": {
      "text/plain": [
       "Index(['price', 'customer_id', 'date_purchase', 'product', 'qty', 'sum'], dtype='object')"
      ]
     },
     "execution_count": 6,
     "metadata": {},
     "output_type": "execute_result"
    }
   ],
   "source": [
    "df.columns = ['price', 'customer_id', 'date_purchase', 'product', 'qty', 'sum']\n",
    "df.columns"
   ]
  },
  {
   "cell_type": "markdown",
   "id": "e90357ef-47ba-41fd-adcc-d19f19e0952e",
   "metadata": {},
   "source": [
    "# 3"
   ]
  },
  {
   "cell_type": "markdown",
   "id": "7e1ccaf0-2cf7-4d33-931d-7f241bd8a897",
   "metadata": {},
   "source": [
    "# Cмотрим общую информацию о датафрейме\n",
    "\n",
    "[CONTENT](#CONTENT)<br>"
   ]
  },
  {
   "cell_type": "code",
   "execution_count": 7,
   "id": "ec3f4260-ec14-45d6-93a2-34346bc7df99",
   "metadata": {
    "scrolled": true
   },
   "outputs": [
    {
     "name": "stdout",
     "output_type": "stream",
     "text": [
      "<class 'pandas.core.frame.DataFrame'>\n",
      "RangeIndex: 345 entries, 0 to 344\n",
      "Data columns (total 6 columns):\n",
      " #   Column         Non-Null Count  Dtype  \n",
      "---  ------         --------------  -----  \n",
      " 0   price          340 non-null    float64\n",
      " 1   customer_id    345 non-null    int64  \n",
      " 2   date_purchase  345 non-null    object \n",
      " 3   product        338 non-null    object \n",
      " 4   qty            345 non-null    int64  \n",
      " 5   sum            340 non-null    float64\n",
      "dtypes: float64(2), int64(2), object(2)\n",
      "memory usage: 16.3+ KB\n"
     ]
    }
   ],
   "source": [
    "df.info()"
   ]
  },
  {
   "cell_type": "markdown",
   "id": "f5abb827-4174-4263-bcef-f6cf3e0e0eb2",
   "metadata": {},
   "source": [
    "### Видим пропуски в столбке price, product (5, 7 соответсвенно) и производное значение столбца sum также отсутствует там где нет price"
   ]
  },
  {
   "cell_type": "markdown",
   "id": "48aae80e-df05-4a74-a273-ffd8fd74c06e",
   "metadata": {},
   "source": [
    "# 4"
   ]
  },
  {
   "cell_type": "markdown",
   "id": "55f585ef-bd29-4add-8a26-68a5c82bcdde",
   "metadata": {},
   "source": [
    "# Считаем отсутствующие значения (None, NaN), принимаем решение как с ними работаем дальше\n",
    "\n",
    "[CONTENT](#CONTENT)<br>"
   ]
  },
  {
   "cell_type": "code",
   "execution_count": 8,
   "id": "2ae480ad-6f55-41e3-b13c-5d61b22dc7da",
   "metadata": {
    "scrolled": true
   },
   "outputs": [
    {
     "data": {
      "text/plain": [
       "7"
      ]
     },
     "metadata": {},
     "output_type": "display_data"
    },
    {
     "data": {
      "text/plain": [
       "5"
      ]
     },
     "metadata": {},
     "output_type": "display_data"
    },
    {
     "data": {
      "text/plain": [
       "price            5\n",
       "customer_id      0\n",
       "date_purchase    0\n",
       "product          7\n",
       "qty              0\n",
       "sum              5\n",
       "dtype: int64"
      ]
     },
     "execution_count": 8,
     "metadata": {},
     "output_type": "execute_result"
    }
   ],
   "source": [
    "display(df['product'].isna().sum())\n",
    "display(df['sum'].isna().sum())\n",
    "df.isna().sum()"
   ]
  },
  {
   "cell_type": "markdown",
   "id": "784ce1f3-8088-4232-84df-ce15fda1854f",
   "metadata": {},
   "source": [
    "## Заменяем пропущенные значения, где имеет смысл и не искажает данные"
   ]
  },
  {
   "cell_type": "code",
   "execution_count": 11,
   "id": "3861e7ae-0bf8-4997-b4ab-b46606a6d521",
   "metadata": {},
   "outputs": [],
   "source": [
    "# df = df.fillna('-1')  - заменит во всем df\n",
    "df['product'].fillna('Unknown', inplace=True)"
   ]
  },
  {
   "cell_type": "markdown",
   "id": "a9a62bf0-37ad-44fd-968a-cd58c08282db",
   "metadata": {},
   "source": [
    "# 5"
   ]
  },
  {
   "cell_type": "markdown",
   "id": "2c180114-aaa7-4a4f-86ff-d496ffae44e1",
   "metadata": {},
   "source": [
    "# Приведение данных\n",
    "\n",
    "[CONTENT](#CONTENT)<br>"
   ]
  },
  {
   "cell_type": "markdown",
   "id": "f7ced749-12ff-407d-ba10-5b80bb4647ae",
   "metadata": {},
   "source": [
    "## Если видим не соответствие значений типу данных осуществляем приведение"
   ]
  },
  {
   "cell_type": "code",
   "execution_count": 9,
   "id": "28c0f6f5-1b9b-4d37-99a9-0b8de6dba4da",
   "metadata": {},
   "outputs": [
    {
     "name": "stdout",
     "output_type": "stream",
     "text": [
      "<class 'pandas.core.frame.DataFrame'>\n",
      "RangeIndex: 345 entries, 0 to 344\n",
      "Data columns (total 6 columns):\n",
      " #   Column         Non-Null Count  Dtype         \n",
      "---  ------         --------------  -----         \n",
      " 0   price          340 non-null    float64       \n",
      " 1   customer_id    345 non-null    int64         \n",
      " 2   date_purchase  345 non-null    datetime64[ns]\n",
      " 3   product        338 non-null    object        \n",
      " 4   qty            345 non-null    int64         \n",
      " 5   sum            340 non-null    float64       \n",
      "dtypes: datetime64[ns](1), float64(2), int64(2), object(1)\n",
      "memory usage: 16.3+ KB\n"
     ]
    }
   ],
   "source": [
    "df['qty'] = pd.to_numeric(df['qty'])\n",
    "\n",
    "df['date_purchase'] = pd.to_datetime(df['date_purchase'])\n",
    "df.info()"
   ]
  },
  {
   "cell_type": "code",
   "execution_count": 10,
   "id": "631050f9-689b-4828-b76e-f2f329f26bc3",
   "metadata": {
    "scrolled": true
   },
   "outputs": [
    {
     "data": {
      "text/plain": [
       "Timestamp('2025-01-31 23:41:00')"
      ]
     },
     "metadata": {},
     "output_type": "display_data"
    },
    {
     "data": {
      "text/plain": [
       "Timestamp('2025-01-01 02:46:00')"
      ]
     },
     "metadata": {},
     "output_type": "display_data"
    }
   ],
   "source": [
    "display(df['date_purchase'].max(), df['date_purchase'].min())"
   ]
  },
  {
   "cell_type": "markdown",
   "id": "bf22372d-ff07-43d8-a0fe-915127f71de3",
   "metadata": {},
   "source": [
    "### привели дату к верному типу, определили начальную и конечную дату в данных (период времени)"
   ]
  },
  {
   "cell_type": "markdown",
   "id": "794c0bc6-b425-47c2-aa0c-0e49cc34269a",
   "metadata": {},
   "source": [
    "# 6"
   ]
  },
  {
   "cell_type": "markdown",
   "id": "067848d7-772d-4f9b-aa4d-b9ecfc46a24e",
   "metadata": {},
   "source": [
    "# Знакомимся с категориальными данными\n",
    "\n",
    "[CONTENT](#CONTENT)<br>"
   ]
  },
  {
   "cell_type": "markdown",
   "id": "75d78735-2841-4d9f-a5ee-bddb9ef3f49e",
   "metadata": {},
   "source": [
    "## Смотрим уникальные значения по столбцу product "
   ]
  },
  {
   "cell_type": "code",
   "execution_count": 12,
   "id": "7beb8e97-05fd-4f8b-be94-5c749d0e631d",
   "metadata": {
    "scrolled": true
   },
   "outputs": [
    {
     "data": {
      "text/plain": [
       "array(['Tablet', 'Phone', 'Laptop', 'Headphones', 'Monitor', 'Unknown'],\n",
       "      dtype=object)"
      ]
     },
     "execution_count": 12,
     "metadata": {},
     "output_type": "execute_result"
    }
   ],
   "source": [
    "df['product'].unique()"
   ]
  },
  {
   "cell_type": "markdown",
   "id": "fa24a408-3e13-442f-abd2-4ad3edbb046e",
   "metadata": {},
   "source": [
    "# 7"
   ]
  },
  {
   "cell_type": "markdown",
   "id": "a2796e4e-4ea4-4781-b21d-6b4ef21bef5a",
   "metadata": {},
   "source": [
    "# Смотрим распредление по числовым данным\n",
    "\n",
    "[CONTENT](#CONTENT)<br>"
   ]
  },
  {
   "cell_type": "code",
   "execution_count": 13,
   "id": "7cbdcae9-0111-48b7-8b40-a23152d5e98b",
   "metadata": {},
   "outputs": [
    {
     "data": {
      "text/html": [
       "<div>\n",
       "<style scoped>\n",
       "    .dataframe tbody tr th:only-of-type {\n",
       "        vertical-align: middle;\n",
       "    }\n",
       "\n",
       "    .dataframe tbody tr th {\n",
       "        vertical-align: top;\n",
       "    }\n",
       "\n",
       "    .dataframe thead th {\n",
       "        text-align: right;\n",
       "    }\n",
       "</style>\n",
       "<table border=\"1\" class=\"dataframe\">\n",
       "  <thead>\n",
       "    <tr style=\"text-align: right;\">\n",
       "      <th></th>\n",
       "      <th>price</th>\n",
       "      <th>qty</th>\n",
       "    </tr>\n",
       "  </thead>\n",
       "  <tbody>\n",
       "    <tr>\n",
       "      <th>count</th>\n",
       "      <td>340.000000</td>\n",
       "      <td>345.000000</td>\n",
       "    </tr>\n",
       "    <tr>\n",
       "      <th>mean</th>\n",
       "      <td>258.933176</td>\n",
       "      <td>2.811594</td>\n",
       "    </tr>\n",
       "    <tr>\n",
       "      <th>std</th>\n",
       "      <td>143.675604</td>\n",
       "      <td>1.341157</td>\n",
       "    </tr>\n",
       "    <tr>\n",
       "      <th>min</th>\n",
       "      <td>10.130000</td>\n",
       "      <td>1.000000</td>\n",
       "    </tr>\n",
       "    <tr>\n",
       "      <th>25%</th>\n",
       "      <td>127.232500</td>\n",
       "      <td>2.000000</td>\n",
       "    </tr>\n",
       "    <tr>\n",
       "      <th>50%</th>\n",
       "      <td>264.070000</td>\n",
       "      <td>3.000000</td>\n",
       "    </tr>\n",
       "    <tr>\n",
       "      <th>75%</th>\n",
       "      <td>386.970000</td>\n",
       "      <td>4.000000</td>\n",
       "    </tr>\n",
       "    <tr>\n",
       "      <th>max</th>\n",
       "      <td>499.690000</td>\n",
       "      <td>6.000000</td>\n",
       "    </tr>\n",
       "  </tbody>\n",
       "</table>\n",
       "</div>"
      ],
      "text/plain": [
       "            price         qty\n",
       "count  340.000000  345.000000\n",
       "mean   258.933176    2.811594\n",
       "std    143.675604    1.341157\n",
       "min     10.130000    1.000000\n",
       "25%    127.232500    2.000000\n",
       "50%    264.070000    3.000000\n",
       "75%    386.970000    4.000000\n",
       "max    499.690000    6.000000"
      ]
     },
     "execution_count": 13,
     "metadata": {},
     "output_type": "execute_result"
    }
   ],
   "source": [
    "df[['price', 'qty']].describe()"
   ]
  },
  {
   "cell_type": "markdown",
   "id": "ab5a7158-7fda-404d-9370-e827850e4a31",
   "metadata": {},
   "source": [
    "# 8"
   ]
  },
  {
   "cell_type": "markdown",
   "id": "90f7f8c3-20c2-480a-9bd1-2ecc22fda7a8",
   "metadata": {},
   "source": [
    "# Строим графики, группируем данные логически\n",
    "\n",
    "[CONTENT](#CONTENT)<br>"
   ]
  },
  {
   "cell_type": "markdown",
   "id": "9b7a2150-ccfb-4a40-967a-11410e21269a",
   "metadata": {},
   "source": [
    "## Смотрим сумму по группировке"
   ]
  },
  {
   "cell_type": "markdown",
   "id": "000308ac-87ac-43ca-8bbc-3e36f3766a05",
   "metadata": {},
   "source": [
    "### общая сумма с разбивкой по продукту с визуализацией\n"
   ]
  },
  {
   "cell_type": "code",
   "execution_count": 14,
   "id": "41bcb9ea-3404-4db7-b54a-fe6961fb5842",
   "metadata": {},
   "outputs": [
    {
     "data": {
      "image/png": "[encoded data removed]",
      "text/plain": [
       "<Figure size 400x300 with 1 Axes>"
      ]
     },
     "metadata": {},
     "output_type": "display_data"
    }
   ],
   "source": [
    "grouped = df.groupby('product')['sum'].sum().sort_values()\n",
    "\n",
    "plt.figure(figsize=(4, 3))\n",
    "grouped.plot(kind='bar')\n",
    "\n",
    "\n",
    "plt.title('Сумма продаж по продуктам')\n",
    "plt.ylabel('Сумма')\n",
    "plt.xlabel('Продукт')\n",
    "plt.show()"
   ]
  },
  {
   "cell_type": "markdown",
   "id": "bd1c7420-6f34-4277-9cb2-6e5f0162c5a0",
   "metadata": {},
   "source": [
    "### общая сумма с разбивкой по клиенту с визуализацией"
   ]
  },
  {
   "cell_type": "code",
   "execution_count": 15,
   "id": "35a4e8de-35eb-4398-9846-3bd09f21a0b6",
   "metadata": {},
   "outputs": [
    {
     "data": {
      "text/plain": [
       "Text(0.5, 0, 'Сумма')"
      ]
     },
     "execution_count": 15,
     "metadata": {},
     "output_type": "execute_result"
    },
    {
     "data": {
      "image/png": "[encoded data removed]",
      "text/plain": [
       "<Figure size 300x400 with 1 Axes>"
      ]
     },
     "metadata": {},
     "output_type": "display_data"
    }
   ],
   "source": [
    "\n",
    "grouped = df.groupby('customer_id')['sum'].sum()\n",
    "\n",
    "plt.figure(figsize=(3,4))\n",
    "grouped.plot(kind='hist', bins = 20)\n",
    "\n",
    "plt.title('Распределение сумм по клиентам')\n",
    "plt.ylabel('Частота')\n",
    "plt.xlabel('Сумма')\n"
   ]
  },
  {
   "cell_type": "markdown",
   "id": "0d54f6b7-9ef5-4f0e-90e5-f8f4eff28003",
   "metadata": {},
   "source": [
    "### Смотрим количество покупок по той же группироке"
   ]
  },
  {
   "cell_type": "code",
   "execution_count": 16,
   "id": "168cb67e-a85b-4160-8626-032d0f163632",
   "metadata": {},
   "outputs": [
    {
     "data": {
      "image/png": "[encoded data removed]",
      "text/plain": [
       "<Figure size 400x300 with 1 Axes>"
      ]
     },
     "metadata": {},
     "output_type": "display_data"
    }
   ],
   "source": [
    "grouped = df.groupby('product')['qty'].count().sort_values()\n",
    "\n",
    "plt.figure(figsize=(4, 3))\n",
    "grouped.plot(kind='bar')\n",
    "\n",
    "\n",
    "plt.title('Количетсво продаж по продуктам')\n",
    "plt.ylabel('Количество')\n",
    "plt.xlabel('Продукт')\n",
    "plt.show()"
   ]
  },
  {
   "cell_type": "code",
   "execution_count": 17,
   "id": "c6bd469f-78c6-4c8e-b506-592366ca5fef",
   "metadata": {},
   "outputs": [
    {
     "data": {
      "text/plain": [
       "Text(0.5, 0, 'Количество')"
      ]
     },
     "execution_count": 17,
     "metadata": {},
     "output_type": "execute_result"
    },
    {
     "data": {
      "image/png": "[encoded data removed]",
      "text/plain": [
       "<Figure size 300x400 with 1 Axes>"
      ]
     },
     "metadata": {},
     "output_type": "display_data"
    }
   ],
   "source": [
    "grouped = df.groupby('customer_id')['qty'].count()\n",
    "\n",
    "plt.figure(figsize=(3,4))\n",
    "grouped.plot(kind='hist', bins = 6)\n",
    "\n",
    "plt.title('Распределение количества покупок по клиентам')\n",
    "plt.ylabel('Частота')\n",
    "plt.xlabel('Количество')"
   ]
  },
  {
   "cell_type": "markdown",
   "id": "43669430-524c-4015-834d-2a3869caa36b",
   "metadata": {},
   "source": [
    "## Построим график количества покупок по часам и дням недели"
   ]
  },
  {
   "cell_type": "code",
   "execution_count": 26,
   "id": "e13f2d81-78ac-4c55-8df2-dc208b675e7b",
   "metadata": {},
   "outputs": [],
   "source": [
    "sales_hourly = df.groupby(df['date_purchase'].dt.hour)['qty'].sum()\n",
    "\n",
    "sales_weekdaily = df.groupby(df['date_purchase'].dt.day_name())['qty'].sum()\n",
    "\n",
    "days_order = ['Monday', 'Tuesday', 'Wednesday', 'Thursday', 'Friday', 'Saturday', 'Sunday']\n",
    "sales_weekdaily = sales_weekdaily.reindex(days_order)"
   ]
  },
  {
   "cell_type": "code",
   "execution_count": 29,
   "id": "9d10117b-b24d-4adc-a1fa-f2443ae5ee52",
   "metadata": {},
   "outputs": [
    {
     "data": {
      "image/png": "[encoded data removed]",
      "text/plain": [
       "<Figure size 800x400 with 1 Axes>"
      ]
     },
     "metadata": {},
     "output_type": "display_data"
    }
   ],
   "source": [
    "plt.figure(figsize=(8,4))\n",
    "sales_hourly.plot(kind='bar', color='skyblue', edgecolor='black')\n",
    "plt.title('Продажи по часам суток')\n",
    "plt.xlabel('Час')\n",
    "plt.ylabel('Количество проданных товаров')\n",
    "plt.xticks(range(0, 24))\n",
    "plt.show()"
   ]
  },
  {
   "cell_type": "code",
   "execution_count": 30,
   "id": "5b0ee540-3c62-4567-b912-8ed43aba952d",
   "metadata": {},
   "outputs": [
    {
     "data": {
      "image/png": "[encoded data removed]",
      "text/plain": [
       "<Figure size 800x400 with 1 Axes>"
      ]
     },
     "metadata": {},
     "output_type": "display_data"
    }
   ],
   "source": [
    "plt.figure(figsize=(8,4))\n",
    "sales_weekdaily.plot(kind='bar', color='lightgreen', edgecolor='black')\n",
    "plt.title('Продажи по дням недели')\n",
    "plt.xlabel('День недели')\n",
    "plt.ylabel('Количество проданных товаров')\n",
    "plt.xticks(rotation=45)\n",
    "plt.show()"
   ]
  },
  {
   "cell_type": "markdown",
   "id": "229338b3-891e-46cb-8425-e3ad86ff3940",
   "metadata": {},
   "source": [
    "# 9"
   ]
  },
  {
   "cell_type": "markdown",
   "id": "e4ed1f47-3fb8-4900-88d5-57a6a0e2cbd3",
   "metadata": {},
   "source": [
    "# Вывод"
   ]
  },
  {
   "cell_type": "code",
   "execution_count": null,
   "id": "b7a2a298-a449-4206-8c49-fd92dd7780b9",
   "metadata": {},
   "outputs": [],
   "source": []
  }
 ],
 "metadata": {
  "kernelspec": {
   "display_name": "Python 3.11 (py_311)",
   "language": "python",
   "name": "py_311"
  },
  "language_info": {
   "codemirror_mode": {
    "name": "ipython",
    "version": 3
   },
   "file_extension": ".py",
   "mimetype": "text/x-python",
   "name": "python",
   "nbconvert_exporter": "python",
   "pygments_lexer": "ipython3",
   "version": "3.11.0"
  }
 },
 "nbformat": 4,
 "nbformat_minor": 5
}
